{
 "cells": [
  {
   "cell_type": "markdown",
   "id": "3061a40f",
   "metadata": {},
   "source": [
    "### import libraries"
   ]
  },
  {
   "cell_type": "code",
   "execution_count": 1,
   "id": "4d12c6e2",
   "metadata": {},
   "outputs": [
    {
     "ename": "ModuleNotFoundError",
     "evalue": "No module named 'weather_data'",
     "output_type": "error",
     "traceback": [
      "\u001b[1;31m---------------------------------------------------------------------------\u001b[0m",
      "\u001b[1;31mModuleNotFoundError\u001b[0m                       Traceback (most recent call last)",
      "\u001b[1;32m<ipython-input-1-5ab1073560e2>\u001b[0m in \u001b[0;36m<module>\u001b[1;34m\u001b[0m\n\u001b[0;32m      1\u001b[0m \u001b[1;32mimport\u001b[0m \u001b[0mpandas\u001b[0m \u001b[1;32mas\u001b[0m \u001b[0mpd\u001b[0m\u001b[1;33m\u001b[0m\u001b[1;33m\u001b[0m\u001b[0m\n\u001b[0;32m      2\u001b[0m \u001b[1;32mimport\u001b[0m \u001b[0mnumpy\u001b[0m \u001b[1;32mas\u001b[0m \u001b[0mnp\u001b[0m\u001b[1;33m\u001b[0m\u001b[1;33m\u001b[0m\u001b[0m\n\u001b[1;32m----> 3\u001b[1;33m \u001b[1;32mfrom\u001b[0m \u001b[0mweather_data\u001b[0m \u001b[1;32mimport\u001b[0m \u001b[0mlondon_data\u001b[0m\u001b[1;33m\u001b[0m\u001b[1;33m\u001b[0m\u001b[0m\n\u001b[0m",
      "\u001b[1;31mModuleNotFoundError\u001b[0m: No module named 'weather_data'"
     ]
    }
   ],
   "source": [
    "import pandas as pd\n",
    "import numpy as np\n",
    "from weather_data import london_data"
   ]
  },
  {
   "cell_type": "code",
   "execution_count": 2,
   "id": "f903c5ca",
   "metadata": {},
   "outputs": [
    {
     "ename": "NameError",
     "evalue": "name 'london_data' is not defined",
     "output_type": "error",
     "traceback": [
      "\u001b[1;31m---------------------------------------------------------------------------\u001b[0m",
      "\u001b[1;31mNameError\u001b[0m                                 Traceback (most recent call last)",
      "\u001b[1;32m<ipython-input-2-0fcf7e6d4041>\u001b[0m in \u001b[0;36m<module>\u001b[1;34m\u001b[0m\n\u001b[0;32m      1\u001b[0m \u001b[1;31m#exploring the data\u001b[0m\u001b[1;33m\u001b[0m\u001b[1;33m\u001b[0m\u001b[1;33m\u001b[0m\u001b[0m\n\u001b[1;32m----> 2\u001b[1;33m \u001b[0mprint\u001b[0m\u001b[1;33m(\u001b[0m\u001b[0mlondon_data\u001b[0m\u001b[1;33m.\u001b[0m\u001b[0mhead\u001b[0m\u001b[1;33m(\u001b[0m\u001b[1;33m)\u001b[0m\u001b[1;33m)\u001b[0m\u001b[1;33m\u001b[0m\u001b[1;33m\u001b[0m\u001b[0m\n\u001b[0m\u001b[0;32m      3\u001b[0m \u001b[1;31m# print(london_data.info())\u001b[0m\u001b[1;33m\u001b[0m\u001b[1;33m\u001b[0m\u001b[1;33m\u001b[0m\u001b[0m\n\u001b[0;32m      4\u001b[0m \u001b[1;31m# print(london_data.iloc[100:200])\u001b[0m\u001b[1;33m\u001b[0m\u001b[1;33m\u001b[0m\u001b[1;33m\u001b[0m\u001b[0m\n\u001b[0;32m      5\u001b[0m \u001b[0mprint\u001b[0m\u001b[1;33m(\u001b[0m\u001b[0mlen\u001b[0m\u001b[1;33m(\u001b[0m\u001b[0mlondon_data\u001b[0m\u001b[1;33m)\u001b[0m\u001b[1;33m)\u001b[0m\u001b[1;33m\u001b[0m\u001b[1;33m\u001b[0m\u001b[0m\n",
      "\u001b[1;31mNameError\u001b[0m: name 'london_data' is not defined"
     ]
    }
   ],
   "source": [
    "#exploring the data\n",
    "print(london_data.head())\n",
    "# print(london_data.info())\n",
    "# print(london_data.iloc[100:200])\n",
    "print(len(london_data))"
   ]
  },
  {
   "cell_type": "code",
   "execution_count": null,
   "id": "1e239d12",
   "metadata": {},
   "outputs": [],
   "source": [
    "#focus on temperature\n",
    "temp = london_data.TemperatureC\n",
    "print(temp)\n",
    "#finding the average\n",
    "average_temp = np.average(temp)\n",
    "print(average_temp)"
   ]
  },
  {
   "cell_type": "code",
   "execution_count": null,
   "id": "2911271f",
   "metadata": {},
   "outputs": [],
   "source": [
    "# finding the variance\n",
    "temperature_var = np.var(temp)\n",
    "print(temperature_var)\n",
    "#finding standard deviation\n",
    "temperature_standard_deviation = np.std(temp)\n",
    "print(temperature_standard_deviation)"
   ]
  },
  {
   "cell_type": "code",
   "execution_count": null,
   "id": "7b4871b8",
   "metadata": {},
   "outputs": [],
   "source": [
    "#filter the data by months\n",
    "june = london_data.loc[london_data[\"month\"] == 6][\"TemperatureC\"]\n",
    "# print(june)\n",
    "july = london_data.loc[london_data[\"month\"] == 7][\"TemperatureC\"]\n",
    "# print(july)"
   ]
  },
  {
   "cell_type": "code",
   "execution_count": null,
   "id": "1e66443e",
   "metadata": {},
   "outputs": [],
   "source": [
    "#getting their means\n",
    "june_mean = np.mean(june)\n",
    "print(june_mean)\n",
    "july_mean = np.mean(july)\n",
    "print(july_mean)\n",
    "june_std = np.std(june)\n",
    "print(june_std)\n",
    "july_std =np.std(july)\n",
    "print(july_std)\n",
    "for i in range(1, 13):\n",
    "  month = london_data.loc[london_data[\"month\"] == i][\"TemperatureC\"]\n",
    "  print(\"The mean temperature in month \"+str(i) +\" is \"+ str(np.mean(month)))\n",
    "  print(\"The standard deviation of temperature in month \"+str(i) +\" is \"+ str(np.std(month)) +\"\\n\")\n"
   ]
  }
 ],
 "metadata": {
  "kernelspec": {
   "display_name": "Python 3",
   "language": "python",
   "name": "python3"
  },
  "language_info": {
   "codemirror_mode": {
    "name": "ipython",
    "version": 3
   },
   "file_extension": ".py",
   "mimetype": "text/x-python",
   "name": "python",
   "nbconvert_exporter": "python",
   "pygments_lexer": "ipython3",
   "version": "3.8.8"
  }
 },
 "nbformat": 4,
 "nbformat_minor": 5
}
